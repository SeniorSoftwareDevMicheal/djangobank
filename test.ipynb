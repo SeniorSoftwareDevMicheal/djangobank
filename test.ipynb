{
 "cells": [
  {
   "cell_type": "code",
   "execution_count": null,
   "metadata": {},
   "outputs": [],
   "source": [
    "# # this is my views.py\n",
    "# def deposit(request):\n",
    "#     if request.method == 'POST':\n",
    "#         amount = float(request.POST.get('amount'))\n",
    "#         if amount <= 0:\n",
    "#             messages.error(request, 'Amount must be greater than zero')\n",
    "#         else:\n",
    "#             user = request.user\n",
    "#             user.deposit(amount)\n",
    "#             # Create a new Transaction object to record the deposit\n",
    "#             transaction = Transaction.objects.create(user=user, transaction_type='Deposit', amount=amount)\n",
    "#             transaction.save()\n",
    "#             messages.success(request, f'Successfully added {amount:.2f} to your account balance.')\n",
    "#             return redirect('dashboard')\n",
    "#     return render(request, 'deposit.html')\n",
    "\n",
    "# # this is my models.py\n",
    "#     def deposit(self, amount):\n",
    "#         if amount <= 0:\n",
    "#             raise ValueError(\"Amount must be greater than zero\")\n",
    "#         self.balance += Decimal(str(amount))\n",
    "#         self.save()\n",
    "\n",
    "\n"
   ]
  },
  {
   "attachments": {},
   "cell_type": "markdown",
   "metadata": {},
   "source": [
    "i want to add funds trough the form below \n",
    "<form action=\"deposit\" method=\"POST\">\n",
    "\t\t\t\t\t{% csrf_token %}\n",
    "\t\t\t\t\t<i>&#8358;</i>\n",
    "\t\t\t\t\t<input type=\"text\" name=\"amount\" placeholder=\"Enter Amount To Deposit\">\n",
    "\t\t\t\t\t<button class=\"flat-button\" style=\"margin-top: 15px;\">Deposit</button>\n",
    "\t\t\t\t  </form>"
   ]
  }
 ],
 "metadata": {
  "language_info": {
   "name": "python"
  },
  "orig_nbformat": 4
 },
 "nbformat": 4,
 "nbformat_minor": 2
}
