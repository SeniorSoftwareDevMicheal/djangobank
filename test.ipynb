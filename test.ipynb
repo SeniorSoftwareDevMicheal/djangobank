{
 "cells": [
  {
   "cell_type": "code",
   "execution_count": null,
   "metadata": {},
   "outputs": [],
   "source": []
  },
  {
   "attachments": {},
   "cell_type": "markdown",
   "metadata": {},
   "source": [
    "i want to add funds trough the form below \n",
    "<form action=\"deposit\" method=\"POST\">\n",
    "\t\t\t\t\t{% csrf_token %}\n",
    "\t\t\t\t\t<i>&#8358;</i>\n",
    "\t\t\t\t\t<input type=\"text\" name=\"amount\" placeholder=\"Enter Amount To Deposit\">\n",
    "\t\t\t\t\t<button class=\"flat-button\" style=\"margin-top: 15px;\">Deposit</button>\n",
    "\t\t\t\t  </form>"
   ]
  }
 ],
 "metadata": {
  "language_info": {
   "name": "python"
  },
  "orig_nbformat": 4
 },
 "nbformat": 4,
 "nbformat_minor": 2
}
